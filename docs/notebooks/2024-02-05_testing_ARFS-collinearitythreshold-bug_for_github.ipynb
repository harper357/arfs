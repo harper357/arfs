{
 "cells": [
  {
   "cell_type": "markdown",
   "id": "5c422097-41d9-4e02-adc5-759baacee4ae",
   "metadata": {},
   "source": [
    "# ARFS CollinearityThreshold bug testing"
   ]
  },
  {
   "cell_type": "markdown",
   "id": "2ef4f665-a202-4a1c-8c43-8c12238b7540",
   "metadata": {},
   "source": [
    "## import and setup"
   ]
  },
  {
   "cell_type": "code",
   "execution_count": 1,
   "id": "06ce8417-2f8f-4e6d-a1b3-068a55a6a7e5",
   "metadata": {
    "execution": {
     "iopub.execute_input": "2024-02-10T04:59:35.224054Z",
     "iopub.status.busy": "2024-02-10T04:59:35.223212Z",
     "iopub.status.idle": "2024-02-10T04:59:36.543634Z",
     "shell.execute_reply": "2024-02-10T04:59:36.543230Z",
     "shell.execute_reply.started": "2024-02-10T04:59:35.224019Z"
    }
   },
   "outputs": [
    {
     "name": "stdout",
     "output_type": "stream",
     "text": [
      "Last updated: Fri Feb 09 2024 20:59:36\n",
      "\n",
      "Python implementation: CPython\n",
      "Python version       : 3.10.13\n",
      "IPython version      : 8.21.0\n",
      "\n",
      "Compiler    : Clang 16.0.6 \n",
      "OS          : Darwin\n",
      "Release     : 21.4.0\n",
      "Machine     : arm64\n",
      "Processor   : arm\n",
      "CPU cores   : 8\n",
      "Architecture: 64bit\n",
      "\n",
      "arfs   : 2.2.2\n",
      "janitor: 0.26.0\n",
      "numpy  : 1.25.2\n",
      "pandas : 2.2.0\n",
      "\n"
     ]
    }
   ],
   "source": [
    "import arfs\n",
    "import arfs.feature_selection as arfsfs\n",
    "import janitor\n",
    "import numpy as np\n",
    "import pandas as pd\n",
    "from arfs.utils import load_data\n",
    "\n",
    "%load_ext watermark\n",
    "%watermark -u -n -t -v -m -iv"
   ]
  },
  {
   "cell_type": "code",
   "execution_count": 2,
   "id": "f2435cb7-11c9-48c0-b1b3-abc2daf55aea",
   "metadata": {
    "execution": {
     "iopub.execute_input": "2024-02-10T04:59:36.544810Z",
     "iopub.status.busy": "2024-02-10T04:59:36.544409Z",
     "iopub.status.idle": "2024-02-10T04:59:36.550965Z",
     "shell.execute_reply": "2024-02-10T04:59:36.550701Z",
     "shell.execute_reply.started": "2024-02-10T04:59:36.544795Z"
    }
   },
   "outputs": [],
   "source": [
    "def style_df(styler):\n",
    "    styler.highlight_between(left=0.85)\n",
    "    styler.highlight_between(left=-1, right=-0.85)\n",
    "    styler.format(precision=3)\n",
    "    return styler\n",
    "\n",
    "\n",
    "####################\n",
    "# ARFS versions w/ verbose printing\n",
    "####################\n",
    "\n",
    "\n",
    "def _most_collinear_old(association_matrix, threshold, verbose):\n",
    "    cols_to_drop = [\n",
    "        column\n",
    "        for column in association_matrix.columns\n",
    "        if any(association_matrix.loc[:, column].abs() > threshold)\n",
    "    ]\n",
    "    rows_to_drop = [\n",
    "        row\n",
    "        for row in association_matrix.index\n",
    "        if any(association_matrix.loc[row, :].abs() > threshold)\n",
    "    ]\n",
    "    to_drop = list(set(cols_to_drop).union(set(rows_to_drop)))\n",
    "    most_collinear_series = (\n",
    "        association_matrix[to_drop].abs().sum(axis=1).sort_values(ascending=False)\n",
    "    )\n",
    "    most_collinear_series += (\n",
    "        association_matrix[to_drop].abs().sum(axis=0).sort_values(ascending=False)\n",
    "    )\n",
    "    most_collinear_series /= 2\n",
    "    if verbose:\n",
    "        print(association_matrix[[most_collinear_series.index[0]]].abs().max())\n",
    "    return most_collinear_series.index[0], to_drop\n",
    "\n",
    "\n",
    "def _recursive_collinear_elimination_old(association_matrix, threshold, verbose=False):\n",
    "    dum = association_matrix.copy()\n",
    "    most_collinear_features = []\n",
    "\n",
    "    while True:\n",
    "        most_collinear_feature, to_drop = _most_collinear_old(dum, threshold, verbose)\n",
    "\n",
    "        # Break if no more features to drop\n",
    "        if not to_drop:\n",
    "            break\n",
    "\n",
    "        if most_collinear_feature not in most_collinear_features:\n",
    "            most_collinear_features.append(most_collinear_feature)\n",
    "            dum = dum.drop(columns=most_collinear_feature, index=most_collinear_feature)\n",
    "\n",
    "    return most_collinear_features\n",
    "\n",
    "\n",
    "####################\n",
    "# updated versions w/ verbose printing\n",
    "####################\n",
    "def _most_collinear(association_matrix, threshold, verbose):\n",
    "\n",
    "    cols_to_drop = association_matrix.loc[\n",
    "        :, (association_matrix > threshold).any(axis=0)\n",
    "    ].columns.values\n",
    "    rows_to_drop = association_matrix.loc[\n",
    "        (association_matrix > threshold).any(axis=1), :\n",
    "    ].index.values\n",
    "    to_drop = list(set(cols_to_drop).union(set(rows_to_drop)))\n",
    "    if not to_drop:\n",
    "        return None, None\n",
    "    most_collinear_series = association_matrix.loc[:, to_drop].sum(axis=0)\n",
    "    most_collinear_series += association_matrix.loc[to_drop, :].sum(axis=1)\n",
    "    most_collinear_series /= 2\n",
    "    if verbose:\n",
    "        print(\n",
    "            association_matrix[\n",
    "                [most_collinear_series.sort_values(ascending=False).index[0]]\n",
    "            ].max()\n",
    "        )\n",
    "    return most_collinear_series.sort_values(ascending=False).index[0], to_drop\n",
    "\n",
    "\n",
    "def _recursive_collinear_elimination(association_matrix, threshold, verbose=False):\n",
    "    dum = association_matrix.copy().abs()\n",
    "    most_collinear_features = []\n",
    "\n",
    "    while True:\n",
    "        most_collinear_feature, to_drop = _most_collinear(dum, threshold, verbose)\n",
    "\n",
    "        # Break if no more features to drop\n",
    "        if not to_drop:\n",
    "            break\n",
    "\n",
    "        if most_collinear_feature not in most_collinear_features:\n",
    "            most_collinear_features.append(most_collinear_feature)\n",
    "            dum = dum.drop(columns=most_collinear_feature, index=most_collinear_feature)\n",
    "\n",
    "    return most_collinear_features"
   ]
  },
  {
   "cell_type": "markdown",
   "id": "7a8bad36-79e2-423e-b876-2a916652a438",
   "metadata": {},
   "source": [
    "## Load and preprocess the data"
   ]
  },
  {
   "cell_type": "code",
   "execution_count": 3,
   "id": "023e235e-dfa5-4b4d-aa84-58615d78e973",
   "metadata": {
    "execution": {
     "iopub.execute_input": "2024-02-10T04:59:36.552259Z",
     "iopub.status.busy": "2024-02-10T04:59:36.552145Z",
     "iopub.status.idle": "2024-02-10T04:59:36.573050Z",
     "shell.execute_reply": "2024-02-10T04:59:36.572654Z",
     "shell.execute_reply.started": "2024-02-10T04:59:36.552249Z"
    }
   },
   "outputs": [
    {
     "data": {
      "text/html": [
       "<div>\n",
       "<style scoped>\n",
       "    .dataframe tbody tr th:only-of-type {\n",
       "        vertical-align: middle;\n",
       "    }\n",
       "\n",
       "    .dataframe tbody tr th {\n",
       "        vertical-align: top;\n",
       "    }\n",
       "\n",
       "    .dataframe thead th {\n",
       "        text-align: right;\n",
       "    }\n",
       "</style>\n",
       "<table border=\"1\" class=\"dataframe\">\n",
       "  <thead>\n",
       "    <tr style=\"text-align: right;\">\n",
       "      <th></th>\n",
       "      <th>mean radius</th>\n",
       "      <th>mean texture</th>\n",
       "      <th>mean perimeter</th>\n",
       "      <th>mean area</th>\n",
       "      <th>mean smoothness</th>\n",
       "      <th>mean compactness</th>\n",
       "      <th>mean concavity</th>\n",
       "      <th>mean concave points</th>\n",
       "      <th>mean symmetry</th>\n",
       "      <th>mean fractal dimension</th>\n",
       "      <th>...</th>\n",
       "      <th>worst area</th>\n",
       "      <th>worst smoothness</th>\n",
       "      <th>worst compactness</th>\n",
       "      <th>worst concavity</th>\n",
       "      <th>worst concave points</th>\n",
       "      <th>worst symmetry</th>\n",
       "      <th>worst fractal dimension</th>\n",
       "      <th>random_num1</th>\n",
       "      <th>random_num2</th>\n",
       "      <th>genuine_num</th>\n",
       "    </tr>\n",
       "  </thead>\n",
       "  <tbody>\n",
       "    <tr>\n",
       "      <th>0</th>\n",
       "      <td>17.99</td>\n",
       "      <td>10.38</td>\n",
       "      <td>122.80</td>\n",
       "      <td>1001.0</td>\n",
       "      <td>0.11840</td>\n",
       "      <td>0.27760</td>\n",
       "      <td>0.3001</td>\n",
       "      <td>0.14710</td>\n",
       "      <td>0.2419</td>\n",
       "      <td>0.07871</td>\n",
       "      <td>...</td>\n",
       "      <td>2019.0</td>\n",
       "      <td>0.1622</td>\n",
       "      <td>0.6656</td>\n",
       "      <td>0.7119</td>\n",
       "      <td>0.2654</td>\n",
       "      <td>0.4601</td>\n",
       "      <td>0.11890</td>\n",
       "      <td>0.496714</td>\n",
       "      <td>0</td>\n",
       "      <td>-0.249340</td>\n",
       "    </tr>\n",
       "    <tr>\n",
       "      <th>1</th>\n",
       "      <td>20.57</td>\n",
       "      <td>17.77</td>\n",
       "      <td>132.90</td>\n",
       "      <td>1326.0</td>\n",
       "      <td>0.08474</td>\n",
       "      <td>0.07864</td>\n",
       "      <td>0.0869</td>\n",
       "      <td>0.07017</td>\n",
       "      <td>0.1812</td>\n",
       "      <td>0.05667</td>\n",
       "      <td>...</td>\n",
       "      <td>1956.0</td>\n",
       "      <td>0.1238</td>\n",
       "      <td>0.1866</td>\n",
       "      <td>0.2416</td>\n",
       "      <td>0.1860</td>\n",
       "      <td>0.2750</td>\n",
       "      <td>0.08902</td>\n",
       "      <td>-0.138264</td>\n",
       "      <td>1</td>\n",
       "      <td>-0.044410</td>\n",
       "    </tr>\n",
       "    <tr>\n",
       "      <th>2</th>\n",
       "      <td>19.69</td>\n",
       "      <td>21.25</td>\n",
       "      <td>130.00</td>\n",
       "      <td>1203.0</td>\n",
       "      <td>0.10960</td>\n",
       "      <td>0.15990</td>\n",
       "      <td>0.1974</td>\n",
       "      <td>0.12790</td>\n",
       "      <td>0.2069</td>\n",
       "      <td>0.05999</td>\n",
       "      <td>...</td>\n",
       "      <td>1709.0</td>\n",
       "      <td>0.1444</td>\n",
       "      <td>0.4245</td>\n",
       "      <td>0.4504</td>\n",
       "      <td>0.2430</td>\n",
       "      <td>0.3613</td>\n",
       "      <td>0.08758</td>\n",
       "      <td>0.647689</td>\n",
       "      <td>3</td>\n",
       "      <td>0.128395</td>\n",
       "    </tr>\n",
       "    <tr>\n",
       "      <th>3</th>\n",
       "      <td>11.42</td>\n",
       "      <td>20.38</td>\n",
       "      <td>77.58</td>\n",
       "      <td>386.1</td>\n",
       "      <td>0.14250</td>\n",
       "      <td>0.28390</td>\n",
       "      <td>0.2414</td>\n",
       "      <td>0.10520</td>\n",
       "      <td>0.2597</td>\n",
       "      <td>0.09744</td>\n",
       "      <td>...</td>\n",
       "      <td>567.7</td>\n",
       "      <td>0.2098</td>\n",
       "      <td>0.8663</td>\n",
       "      <td>0.6869</td>\n",
       "      <td>0.2575</td>\n",
       "      <td>0.6638</td>\n",
       "      <td>0.17300</td>\n",
       "      <td>1.523030</td>\n",
       "      <td>0</td>\n",
       "      <td>-0.079921</td>\n",
       "    </tr>\n",
       "    <tr>\n",
       "      <th>4</th>\n",
       "      <td>20.29</td>\n",
       "      <td>14.34</td>\n",
       "      <td>135.10</td>\n",
       "      <td>1297.0</td>\n",
       "      <td>0.10030</td>\n",
       "      <td>0.13280</td>\n",
       "      <td>0.1980</td>\n",
       "      <td>0.10430</td>\n",
       "      <td>0.1809</td>\n",
       "      <td>0.05883</td>\n",
       "      <td>...</td>\n",
       "      <td>1575.0</td>\n",
       "      <td>0.1374</td>\n",
       "      <td>0.2050</td>\n",
       "      <td>0.4000</td>\n",
       "      <td>0.1625</td>\n",
       "      <td>0.2364</td>\n",
       "      <td>0.07678</td>\n",
       "      <td>-0.234153</td>\n",
       "      <td>0</td>\n",
       "      <td>-0.094302</td>\n",
       "    </tr>\n",
       "  </tbody>\n",
       "</table>\n",
       "<p>5 rows × 33 columns</p>\n",
       "</div>"
      ],
      "text/plain": [
       "   mean radius  mean texture  mean perimeter  mean area  mean smoothness  \\\n",
       "0        17.99         10.38          122.80     1001.0          0.11840   \n",
       "1        20.57         17.77          132.90     1326.0          0.08474   \n",
       "2        19.69         21.25          130.00     1203.0          0.10960   \n",
       "3        11.42         20.38           77.58      386.1          0.14250   \n",
       "4        20.29         14.34          135.10     1297.0          0.10030   \n",
       "\n",
       "   mean compactness  mean concavity  mean concave points  mean symmetry  \\\n",
       "0           0.27760          0.3001              0.14710         0.2419   \n",
       "1           0.07864          0.0869              0.07017         0.1812   \n",
       "2           0.15990          0.1974              0.12790         0.2069   \n",
       "3           0.28390          0.2414              0.10520         0.2597   \n",
       "4           0.13280          0.1980              0.10430         0.1809   \n",
       "\n",
       "   mean fractal dimension  ...  worst area  worst smoothness  \\\n",
       "0                 0.07871  ...      2019.0            0.1622   \n",
       "1                 0.05667  ...      1956.0            0.1238   \n",
       "2                 0.05999  ...      1709.0            0.1444   \n",
       "3                 0.09744  ...       567.7            0.2098   \n",
       "4                 0.05883  ...      1575.0            0.1374   \n",
       "\n",
       "   worst compactness  worst concavity  worst concave points  worst symmetry  \\\n",
       "0             0.6656           0.7119                0.2654          0.4601   \n",
       "1             0.1866           0.2416                0.1860          0.2750   \n",
       "2             0.4245           0.4504                0.2430          0.3613   \n",
       "3             0.8663           0.6869                0.2575          0.6638   \n",
       "4             0.2050           0.4000                0.1625          0.2364   \n",
       "\n",
       "   worst fractal dimension  random_num1  random_num2  genuine_num  \n",
       "0                  0.11890     0.496714            0    -0.249340  \n",
       "1                  0.08902    -0.138264            1    -0.044410  \n",
       "2                  0.08758     0.647689            3     0.128395  \n",
       "3                  0.17300     1.523030            0    -0.079921  \n",
       "4                  0.07678    -0.234153            0    -0.094302  \n",
       "\n",
       "[5 rows x 33 columns]"
      ]
     },
     "metadata": {},
     "output_type": "display_data"
    },
    {
     "data": {
      "text/plain": [
       "(569, 33)"
      ]
     },
     "metadata": {},
     "output_type": "display_data"
    }
   ],
   "source": [
    "cancer = load_data(name=\"cancer\")\n",
    "X, y = cancer.data, cancer.target\n",
    "y = y.astype(int)\n",
    "display(X.head(), X.shape)"
   ]
  },
  {
   "cell_type": "code",
   "execution_count": 4,
   "id": "6a1bc5ca-7511-4972-bf04-1f5ae7f5ed4a",
   "metadata": {
    "execution": {
     "iopub.execute_input": "2024-02-10T04:59:36.573739Z",
     "iopub.status.busy": "2024-02-10T04:59:36.573566Z",
     "iopub.status.idle": "2024-02-10T04:59:38.068247Z",
     "shell.execute_reply": "2024-02-10T04:59:38.067684Z",
     "shell.execute_reply.started": "2024-02-10T04:59:36.573726Z"
    }
   },
   "outputs": [],
   "source": [
    "arfs_selector = arfsfs.CollinearityThreshold(0.85, n_jobs=7)\n",
    "arfs_selector = arfs_selector.fit(X)\n",
    "X_filtered = arfs_selector.transform(X)"
   ]
  },
  {
   "cell_type": "markdown",
   "id": "837f2b1a-3fed-41c7-8ce5-1ce8b22c0297",
   "metadata": {},
   "source": [
    "## Timing comparisons between ARFS 2.2.2 and my proposed updates"
   ]
  },
  {
   "cell_type": "code",
   "execution_count": 5,
   "id": "0be54ff1-aab2-45c4-ac80-f8a420e7eaed",
   "metadata": {
    "execution": {
     "iopub.execute_input": "2024-02-10T04:59:38.069124Z",
     "iopub.status.busy": "2024-02-10T04:59:38.069005Z",
     "iopub.status.idle": "2024-02-10T04:59:48.847985Z",
     "shell.execute_reply": "2024-02-10T04:59:48.847678Z",
     "shell.execute_reply.started": "2024-02-10T04:59:38.069108Z"
    }
   },
   "outputs": [
    {
     "name": "stdout",
     "output_type": "stream",
     "text": [
      "13.3 ms ± 281 µs per loop (mean ± std. dev. of 7 runs, 100 loops each)\n"
     ]
    }
   ],
   "source": [
    "%%timeit\n",
    "most_collinear_features = _recursive_collinear_elimination(\n",
    "    arfs_selector.assoc_matrix_, threshold=0.85\n",
    ")"
   ]
  },
  {
   "cell_type": "code",
   "execution_count": 6,
   "id": "533c7ebe-270e-47fb-be6e-63e2322e7c4a",
   "metadata": {
    "execution": {
     "iopub.execute_input": "2024-02-10T04:59:48.848680Z",
     "iopub.status.busy": "2024-02-10T04:59:48.848570Z",
     "iopub.status.idle": "2024-02-10T04:59:53.133850Z",
     "shell.execute_reply": "2024-02-10T04:59:53.133552Z",
     "shell.execute_reply.started": "2024-02-10T04:59:48.848669Z"
    }
   },
   "outputs": [
    {
     "name": "stdout",
     "output_type": "stream",
     "text": [
      "52.8 ms ± 228 µs per loop (mean ± std. dev. of 7 runs, 10 loops each)\n"
     ]
    }
   ],
   "source": [
    "%%timeit\n",
    "most_collinear_features_old = _recursive_collinear_elimination_old(\n",
    "    arfs_selector.assoc_matrix_, threshold=0.85\n",
    ")"
   ]
  },
  {
   "cell_type": "code",
   "execution_count": 7,
   "id": "3fe3e930-a538-42d1-a384-070476f1344a",
   "metadata": {
    "execution": {
     "iopub.execute_input": "2024-02-10T04:59:53.134447Z",
     "iopub.status.busy": "2024-02-10T04:59:53.134348Z",
     "iopub.status.idle": "2024-02-10T04:59:57.577412Z",
     "shell.execute_reply": "2024-02-10T04:59:57.577120Z",
     "shell.execute_reply.started": "2024-02-10T04:59:53.134437Z"
    }
   },
   "outputs": [
    {
     "name": "stdout",
     "output_type": "stream",
     "text": [
      "54.6 ms ± 2.89 ms per loop (mean ± std. dev. of 7 runs, 10 loops each)\n"
     ]
    }
   ],
   "source": [
    "%%timeit\n",
    "most_collinear_features_old = arfsfs.unsupervised._recursive_collinear_elimination(\n",
    "    arfs_selector.assoc_matrix_, threshold=0.85\n",
    ")"
   ]
  },
  {
   "cell_type": "markdown",
   "id": "64d4c43b-dc22-4cdb-8df0-a797a02e440a",
   "metadata": {},
   "source": [
    "## Demonstrating the bug\n",
    "\n",
    "This is a test example of the bug I was seeing.  \n",
    "Here we can see the old version is removing features that it shouldn't."
   ]
  },
  {
   "cell_type": "code",
   "execution_count": 8,
   "id": "1e5b9a54-dd9c-4f7c-9224-e0a35c15485e",
   "metadata": {
    "execution": {
     "iopub.execute_input": "2024-02-10T04:59:57.578132Z",
     "iopub.status.busy": "2024-02-10T04:59:57.577911Z",
     "iopub.status.idle": "2024-02-10T04:59:57.657920Z",
     "shell.execute_reply": "2024-02-10T04:59:57.657626Z",
     "shell.execute_reply.started": "2024-02-10T04:59:57.578120Z"
    }
   },
   "outputs": [
    {
     "data": {
      "text/plain": [
       "False"
      ]
     },
     "execution_count": 8,
     "metadata": {},
     "output_type": "execute_result"
    }
   ],
   "source": [
    "most_collinear_features = _recursive_collinear_elimination(\n",
    "    arfs_selector.assoc_matrix_, threshold=0.85\n",
    ")\n",
    "most_collinear_features_old = arfsfs.unsupervised._recursive_collinear_elimination(\n",
    "    arfs_selector.assoc_matrix_, threshold=0.85\n",
    ")\n",
    "np.all(np.isin(most_collinear_features, most_collinear_features_old))"
   ]
  },
  {
   "cell_type": "code",
   "execution_count": 9,
   "id": "1be92b91-4697-4504-9dad-e74fed8d68b8",
   "metadata": {
    "execution": {
     "iopub.execute_input": "2024-02-10T04:59:57.658507Z",
     "iopub.status.busy": "2024-02-10T04:59:57.658407Z",
     "iopub.status.idle": "2024-02-10T04:59:57.662368Z",
     "shell.execute_reply": "2024-02-10T04:59:57.661989Z",
     "shell.execute_reply.started": "2024-02-10T04:59:57.658497Z"
    }
   },
   "outputs": [
    {
     "data": {
      "text/plain": [
       "array(['radius error', 'worst texture'], dtype='<U20')"
      ]
     },
     "execution_count": 9,
     "metadata": {},
     "output_type": "execute_result"
    }
   ],
   "source": [
    "np.array(most_collinear_features)[\n",
    "    ~np.isin(most_collinear_features, most_collinear_features_old)\n",
    "]"
   ]
  },
  {
   "cell_type": "code",
   "execution_count": 10,
   "id": "2a9aed5e-15e2-4e51-bc64-83dee8b7dded",
   "metadata": {
    "execution": {
     "iopub.execute_input": "2024-02-10T04:59:57.663112Z",
     "iopub.status.busy": "2024-02-10T04:59:57.662867Z",
     "iopub.status.idle": "2024-02-10T04:59:57.667005Z",
     "shell.execute_reply": "2024-02-10T04:59:57.666647Z",
     "shell.execute_reply.started": "2024-02-10T04:59:57.663097Z"
    }
   },
   "outputs": [
    {
     "data": {
      "text/plain": [
       "array(['mean area', 'compactness error', 'mean texture', 'area error'],\n",
       "      dtype='<U20')"
      ]
     },
     "execution_count": 10,
     "metadata": {},
     "output_type": "execute_result"
    }
   ],
   "source": [
    "np.array(most_collinear_features_old)[\n",
    "    ~np.isin(most_collinear_features_old, most_collinear_features)\n",
    "]"
   ]
  },
  {
   "cell_type": "markdown",
   "id": "d90bf67a-4841-4bf7-bd50-4428d7a2d582",
   "metadata": {},
   "source": [
    "So we can clearly see that we are getting different results.  \n",
    "We can dive into this a little with the print statement I added in the above versions.  \n",
    "This print statement will show us what feature is being removed in each step and what it's max correlation value is."
   ]
  },
  {
   "cell_type": "code",
   "execution_count": 11,
   "id": "263e86a4-6072-4f8b-b5f3-c6d43e8080a9",
   "metadata": {
    "execution": {
     "iopub.execute_input": "2024-02-10T04:59:57.667884Z",
     "iopub.status.busy": "2024-02-10T04:59:57.667714Z",
     "iopub.status.idle": "2024-02-10T04:59:57.737992Z",
     "shell.execute_reply": "2024-02-10T04:59:57.737701Z",
     "shell.execute_reply.started": "2024-02-10T04:59:57.667871Z"
    }
   },
   "outputs": [
    {
     "name": "stdout",
     "output_type": "stream",
     "text": [
      "worst perimeter    0.993708\n",
      "dtype: float64\n",
      "mean concave points    0.921391\n",
      "dtype: float64\n",
      "worst radius    0.984015\n",
      "dtype: float64\n",
      "mean perimeter    0.997855\n",
      "dtype: float64\n",
      "mean concavity    0.884103\n",
      "dtype: float64\n",
      "worst area    0.959213\n",
      "dtype: float64\n",
      "worst concave points    0.855434\n",
      "dtype: float64\n",
      "mean area    0.987357\n",
      "dtype: float64\n",
      "mean radius    0.735864\n",
      "dtype: float64\n",
      "perimeter error    0.972794\n",
      "dtype: float64\n",
      "worst concavity    0.892261\n",
      "dtype: float64\n",
      "compactness error    0.803269\n",
      "dtype: float64\n",
      "mean compactness    0.865809\n",
      "dtype: float64\n",
      "mean texture    0.912045\n",
      "dtype: float64\n",
      "area error    0.95183\n",
      "dtype: float64\n",
      "concave points error    0.771804\n",
      "dtype: float64\n"
     ]
    }
   ],
   "source": [
    "most_colliner_features_old = _recursive_collinear_elimination_old(\n",
    "    arfs_selector.assoc_matrix_,\n",
    "    threshold=0.85,\n",
    "    verbose=True,\n",
    ")"
   ]
  },
  {
   "cell_type": "code",
   "execution_count": 12,
   "id": "9f42699f-6190-4c75-a62b-1c6b1247c17b",
   "metadata": {
    "execution": {
     "iopub.execute_input": "2024-02-10T04:59:57.740653Z",
     "iopub.status.busy": "2024-02-10T04:59:57.740497Z",
     "iopub.status.idle": "2024-02-10T04:59:57.783835Z",
     "shell.execute_reply": "2024-02-10T04:59:57.783530Z",
     "shell.execute_reply.started": "2024-02-10T04:59:57.740641Z"
    }
   },
   "outputs": [
    {
     "data": {
      "text/html": [
       "<style type=\"text/css\">\n",
       "#T_b03b1_row6_col0, #T_b03b1_row11_col0, #T_b03b1_row23_col0, #T_b03b1_row28_col0, #T_b03b1_row29_col0 {\n",
       "  background-color: yellow;\n",
       "}\n",
       "</style>\n",
       "<table id=\"T_b03b1\">\n",
       "  <thead>\n",
       "    <tr>\n",
       "      <th class=\"blank level0\" >&nbsp;</th>\n",
       "      <th id=\"T_b03b1_level0_col0\" class=\"col_heading level0 col0\" >mean radius</th>\n",
       "      <th id=\"T_b03b1_level0_col1\" class=\"col_heading level0 col1\" >compactness error</th>\n",
       "      <th id=\"T_b03b1_level0_col2\" class=\"col_heading level0 col2\" >concave points error</th>\n",
       "    </tr>\n",
       "  </thead>\n",
       "  <tbody>\n",
       "    <tr>\n",
       "      <th id=\"T_b03b1_level0_row0\" class=\"row_heading level0 row0\" >area error</th>\n",
       "      <td id=\"T_b03b1_row0_col0\" class=\"data row0 col0\" >0.736</td>\n",
       "      <td id=\"T_b03b1_row0_col1\" class=\"data row0 col1\" >0.285</td>\n",
       "      <td id=\"T_b03b1_row0_col2\" class=\"data row0 col2\" >0.416</td>\n",
       "    </tr>\n",
       "    <tr>\n",
       "      <th id=\"T_b03b1_level0_row1\" class=\"row_heading level0 row1\" >compactness error</th>\n",
       "      <td id=\"T_b03b1_row1_col0\" class=\"data row1 col0\" >0.206</td>\n",
       "      <td id=\"T_b03b1_row1_col1\" class=\"data row1 col1\" >0.000</td>\n",
       "      <td id=\"T_b03b1_row1_col2\" class=\"data row1 col2\" >0.744</td>\n",
       "    </tr>\n",
       "    <tr>\n",
       "      <th id=\"T_b03b1_level0_row2\" class=\"row_heading level0 row2\" >concave points error</th>\n",
       "      <td id=\"T_b03b1_row2_col0\" class=\"data row2 col0\" >0.376</td>\n",
       "      <td id=\"T_b03b1_row2_col1\" class=\"data row2 col1\" >0.744</td>\n",
       "      <td id=\"T_b03b1_row2_col2\" class=\"data row2 col2\" >0.000</td>\n",
       "    </tr>\n",
       "    <tr>\n",
       "      <th id=\"T_b03b1_level0_row3\" class=\"row_heading level0 row3\" >concavity error</th>\n",
       "      <td id=\"T_b03b1_row3_col0\" class=\"data row3 col0\" >0.194</td>\n",
       "      <td id=\"T_b03b1_row3_col1\" class=\"data row3 col1\" >0.801</td>\n",
       "      <td id=\"T_b03b1_row3_col2\" class=\"data row3 col2\" >0.772</td>\n",
       "    </tr>\n",
       "    <tr>\n",
       "      <th id=\"T_b03b1_level0_row4\" class=\"row_heading level0 row4\" >fractal dimension error</th>\n",
       "      <td id=\"T_b03b1_row4_col0\" class=\"data row4 col0\" >-0.043</td>\n",
       "      <td id=\"T_b03b1_row4_col1\" class=\"data row4 col1\" >0.803</td>\n",
       "      <td id=\"T_b03b1_row4_col2\" class=\"data row4 col2\" >0.611</td>\n",
       "    </tr>\n",
       "    <tr>\n",
       "      <th id=\"T_b03b1_level0_row5\" class=\"row_heading level0 row5\" >genuine_num</th>\n",
       "      <td id=\"T_b03b1_row5_col0\" class=\"data row5 col0\" >-0.238</td>\n",
       "      <td id=\"T_b03b1_row5_col1\" class=\"data row5 col1\" >-0.214</td>\n",
       "      <td id=\"T_b03b1_row5_col2\" class=\"data row5 col2\" >-0.185</td>\n",
       "    </tr>\n",
       "    <tr>\n",
       "      <th id=\"T_b03b1_level0_row6\" class=\"row_heading level0 row6\" >mean area</th>\n",
       "      <td id=\"T_b03b1_row6_col0\" class=\"data row6 col0\" >0.987</td>\n",
       "      <td id=\"T_b03b1_row6_col1\" class=\"data row6 col1\" >0.213</td>\n",
       "      <td id=\"T_b03b1_row6_col2\" class=\"data row6 col2\" >0.372</td>\n",
       "    </tr>\n",
       "    <tr>\n",
       "      <th id=\"T_b03b1_level0_row7\" class=\"row_heading level0 row7\" >mean compactness</th>\n",
       "      <td id=\"T_b03b1_row7_col0\" class=\"data row7 col0\" >0.506</td>\n",
       "      <td id=\"T_b03b1_row7_col1\" class=\"data row7 col1\" >0.739</td>\n",
       "      <td id=\"T_b03b1_row7_col2\" class=\"data row7 col2\" >0.642</td>\n",
       "    </tr>\n",
       "    <tr>\n",
       "      <th id=\"T_b03b1_level0_row8\" class=\"row_heading level0 row8\" >mean concave points</th>\n",
       "      <td id=\"T_b03b1_row8_col0\" class=\"data row8 col0\" >0.823</td>\n",
       "      <td id=\"T_b03b1_row8_col1\" class=\"data row8 col1\" >0.490</td>\n",
       "      <td id=\"T_b03b1_row8_col2\" class=\"data row8 col2\" >0.616</td>\n",
       "    </tr>\n",
       "    <tr>\n",
       "      <th id=\"T_b03b1_level0_row9\" class=\"row_heading level0 row9\" >mean concavity</th>\n",
       "      <td id=\"T_b03b1_row9_col0\" class=\"data row9 col0\" >0.677</td>\n",
       "      <td id=\"T_b03b1_row9_col1\" class=\"data row9 col1\" >0.670</td>\n",
       "      <td id=\"T_b03b1_row9_col2\" class=\"data row9 col2\" >0.683</td>\n",
       "    </tr>\n",
       "    <tr>\n",
       "      <th id=\"T_b03b1_level0_row10\" class=\"row_heading level0 row10\" >mean fractal dimension</th>\n",
       "      <td id=\"T_b03b1_row10_col0\" class=\"data row10 col0\" >-0.312</td>\n",
       "      <td id=\"T_b03b1_row10_col1\" class=\"data row10 col1\" >0.560</td>\n",
       "      <td id=\"T_b03b1_row10_col2\" class=\"data row10 col2\" >0.341</td>\n",
       "    </tr>\n",
       "    <tr>\n",
       "      <th id=\"T_b03b1_level0_row11\" class=\"row_heading level0 row11\" >mean perimeter</th>\n",
       "      <td id=\"T_b03b1_row11_col0\" class=\"data row11 col0\" >0.998</td>\n",
       "      <td id=\"T_b03b1_row11_col1\" class=\"data row11 col1\" >0.251</td>\n",
       "      <td id=\"T_b03b1_row11_col2\" class=\"data row11 col2\" >0.407</td>\n",
       "    </tr>\n",
       "    <tr>\n",
       "      <th id=\"T_b03b1_level0_row12\" class=\"row_heading level0 row12\" >mean radius</th>\n",
       "      <td id=\"T_b03b1_row12_col0\" class=\"data row12 col0\" >0.000</td>\n",
       "      <td id=\"T_b03b1_row12_col1\" class=\"data row12 col1\" >0.206</td>\n",
       "      <td id=\"T_b03b1_row12_col2\" class=\"data row12 col2\" >0.376</td>\n",
       "    </tr>\n",
       "    <tr>\n",
       "      <th id=\"T_b03b1_level0_row13\" class=\"row_heading level0 row13\" >mean smoothness</th>\n",
       "      <td id=\"T_b03b1_row13_col0\" class=\"data row13 col0\" >0.171</td>\n",
       "      <td id=\"T_b03b1_row13_col1\" class=\"data row13 col1\" >0.319</td>\n",
       "      <td id=\"T_b03b1_row13_col2\" class=\"data row13 col2\" >0.381</td>\n",
       "    </tr>\n",
       "    <tr>\n",
       "      <th id=\"T_b03b1_level0_row14\" class=\"row_heading level0 row14\" >mean symmetry</th>\n",
       "      <td id=\"T_b03b1_row14_col0\" class=\"data row14 col0\" >0.148</td>\n",
       "      <td id=\"T_b03b1_row14_col1\" class=\"data row14 col1\" >0.422</td>\n",
       "      <td id=\"T_b03b1_row14_col2\" class=\"data row14 col2\" >0.393</td>\n",
       "    </tr>\n",
       "    <tr>\n",
       "      <th id=\"T_b03b1_level0_row15\" class=\"row_heading level0 row15\" >mean texture</th>\n",
       "      <td id=\"T_b03b1_row15_col0\" class=\"data row15 col0\" >0.324</td>\n",
       "      <td id=\"T_b03b1_row15_col1\" class=\"data row15 col1\" >0.192</td>\n",
       "      <td id=\"T_b03b1_row15_col2\" class=\"data row15 col2\" >0.164</td>\n",
       "    </tr>\n",
       "    <tr>\n",
       "      <th id=\"T_b03b1_level0_row16\" class=\"row_heading level0 row16\" >perimeter error</th>\n",
       "      <td id=\"T_b03b1_row16_col0\" class=\"data row16 col0\" >0.674</td>\n",
       "      <td id=\"T_b03b1_row16_col1\" class=\"data row16 col1\" >0.416</td>\n",
       "      <td id=\"T_b03b1_row16_col2\" class=\"data row16 col2\" >0.556</td>\n",
       "    </tr>\n",
       "    <tr>\n",
       "      <th id=\"T_b03b1_level0_row17\" class=\"row_heading level0 row17\" >radius error</th>\n",
       "      <td id=\"T_b03b1_row17_col0\" class=\"data row17 col0\" >0.679</td>\n",
       "      <td id=\"T_b03b1_row17_col1\" class=\"data row17 col1\" >0.356</td>\n",
       "      <td id=\"T_b03b1_row17_col2\" class=\"data row17 col2\" >0.513</td>\n",
       "    </tr>\n",
       "    <tr>\n",
       "      <th id=\"T_b03b1_level0_row18\" class=\"row_heading level0 row18\" >random_num1</th>\n",
       "      <td id=\"T_b03b1_row18_col0\" class=\"data row18 col0\" >0.012</td>\n",
       "      <td id=\"T_b03b1_row18_col1\" class=\"data row18 col1\" >0.018</td>\n",
       "      <td id=\"T_b03b1_row18_col2\" class=\"data row18 col2\" >0.001</td>\n",
       "    </tr>\n",
       "    <tr>\n",
       "      <th id=\"T_b03b1_level0_row19\" class=\"row_heading level0 row19\" >random_num2</th>\n",
       "      <td id=\"T_b03b1_row19_col0\" class=\"data row19 col0\" >0.065</td>\n",
       "      <td id=\"T_b03b1_row19_col1\" class=\"data row19 col1\" >0.076</td>\n",
       "      <td id=\"T_b03b1_row19_col2\" class=\"data row19 col2\" >0.001</td>\n",
       "    </tr>\n",
       "    <tr>\n",
       "      <th id=\"T_b03b1_level0_row20\" class=\"row_heading level0 row20\" >smoothness error</th>\n",
       "      <td id=\"T_b03b1_row20_col0\" class=\"data row20 col0\" >-0.223</td>\n",
       "      <td id=\"T_b03b1_row20_col1\" class=\"data row20 col1\" >0.337</td>\n",
       "      <td id=\"T_b03b1_row20_col2\" class=\"data row20 col2\" >0.328</td>\n",
       "    </tr>\n",
       "    <tr>\n",
       "      <th id=\"T_b03b1_level0_row21\" class=\"row_heading level0 row21\" >symmetry error</th>\n",
       "      <td id=\"T_b03b1_row21_col0\" class=\"data row21 col0\" >-0.104</td>\n",
       "      <td id=\"T_b03b1_row21_col1\" class=\"data row21 col1\" >0.395</td>\n",
       "      <td id=\"T_b03b1_row21_col2\" class=\"data row21 col2\" >0.313</td>\n",
       "    </tr>\n",
       "    <tr>\n",
       "      <th id=\"T_b03b1_level0_row22\" class=\"row_heading level0 row22\" >texture error</th>\n",
       "      <td id=\"T_b03b1_row22_col0\" class=\"data row22 col0\" >-0.097</td>\n",
       "      <td id=\"T_b03b1_row22_col1\" class=\"data row22 col1\" >0.232</td>\n",
       "      <td id=\"T_b03b1_row22_col2\" class=\"data row22 col2\" >0.230</td>\n",
       "    </tr>\n",
       "    <tr>\n",
       "      <th id=\"T_b03b1_level0_row23\" class=\"row_heading level0 row23\" >worst area</th>\n",
       "      <td id=\"T_b03b1_row23_col0\" class=\"data row23 col0\" >0.941</td>\n",
       "      <td id=\"T_b03b1_row23_col1\" class=\"data row23 col1\" >0.199</td>\n",
       "      <td id=\"T_b03b1_row23_col2\" class=\"data row23 col2\" >0.342</td>\n",
       "    </tr>\n",
       "    <tr>\n",
       "      <th id=\"T_b03b1_level0_row24\" class=\"row_heading level0 row24\" >worst compactness</th>\n",
       "      <td id=\"T_b03b1_row24_col0\" class=\"data row24 col0\" >0.413</td>\n",
       "      <td id=\"T_b03b1_row24_col1\" class=\"data row24 col1\" >0.679</td>\n",
       "      <td id=\"T_b03b1_row24_col2\" class=\"data row24 col2\" >0.453</td>\n",
       "    </tr>\n",
       "    <tr>\n",
       "      <th id=\"T_b03b1_level0_row25\" class=\"row_heading level0 row25\" >worst concave points</th>\n",
       "      <td id=\"T_b03b1_row25_col0\" class=\"data row25 col0\" >0.744</td>\n",
       "      <td id=\"T_b03b1_row25_col1\" class=\"data row25 col1\" >0.483</td>\n",
       "      <td id=\"T_b03b1_row25_col2\" class=\"data row25 col2\" >0.602</td>\n",
       "    </tr>\n",
       "    <tr>\n",
       "      <th id=\"T_b03b1_level0_row26\" class=\"row_heading level0 row26\" >worst concavity</th>\n",
       "      <td id=\"T_b03b1_row26_col0\" class=\"data row26 col0\" >0.527</td>\n",
       "      <td id=\"T_b03b1_row26_col1\" class=\"data row26 col1\" >0.639</td>\n",
       "      <td id=\"T_b03b1_row26_col2\" class=\"data row26 col2\" >0.550</td>\n",
       "    </tr>\n",
       "    <tr>\n",
       "      <th id=\"T_b03b1_level0_row27\" class=\"row_heading level0 row27\" >worst fractal dimension</th>\n",
       "      <td id=\"T_b03b1_row27_col0\" class=\"data row27 col0\" >0.007</td>\n",
       "      <td id=\"T_b03b1_row27_col1\" class=\"data row27 col1\" >0.591</td>\n",
       "      <td id=\"T_b03b1_row27_col2\" class=\"data row27 col2\" >0.311</td>\n",
       "    </tr>\n",
       "    <tr>\n",
       "      <th id=\"T_b03b1_level0_row28\" class=\"row_heading level0 row28\" >worst perimeter</th>\n",
       "      <td id=\"T_b03b1_row28_col0\" class=\"data row28 col0\" >0.965</td>\n",
       "      <td id=\"T_b03b1_row28_col1\" class=\"data row28 col1\" >0.261</td>\n",
       "      <td id=\"T_b03b1_row28_col2\" class=\"data row28 col2\" >0.395</td>\n",
       "    </tr>\n",
       "    <tr>\n",
       "      <th id=\"T_b03b1_level0_row29\" class=\"row_heading level0 row29\" >worst radius</th>\n",
       "      <td id=\"T_b03b1_row29_col0\" class=\"data row29 col0\" >0.970</td>\n",
       "      <td id=\"T_b03b1_row29_col1\" class=\"data row29 col1\" >0.205</td>\n",
       "      <td id=\"T_b03b1_row29_col2\" class=\"data row29 col2\" >0.358</td>\n",
       "    </tr>\n",
       "    <tr>\n",
       "      <th id=\"T_b03b1_level0_row30\" class=\"row_heading level0 row30\" >worst smoothness</th>\n",
       "      <td id=\"T_b03b1_row30_col0\" class=\"data row30 col0\" >0.120</td>\n",
       "      <td id=\"T_b03b1_row30_col1\" class=\"data row30 col1\" >0.227</td>\n",
       "      <td id=\"T_b03b1_row30_col2\" class=\"data row30 col2\" >0.215</td>\n",
       "    </tr>\n",
       "    <tr>\n",
       "      <th id=\"T_b03b1_level0_row31\" class=\"row_heading level0 row31\" >worst symmetry</th>\n",
       "      <td id=\"T_b03b1_row31_col0\" class=\"data row31 col0\" >0.164</td>\n",
       "      <td id=\"T_b03b1_row31_col1\" class=\"data row31 col1\" >0.278</td>\n",
       "      <td id=\"T_b03b1_row31_col2\" class=\"data row31 col2\" >0.143</td>\n",
       "    </tr>\n",
       "    <tr>\n",
       "      <th id=\"T_b03b1_level0_row32\" class=\"row_heading level0 row32\" >worst texture</th>\n",
       "      <td id=\"T_b03b1_row32_col0\" class=\"data row32 col0\" >0.297</td>\n",
       "      <td id=\"T_b03b1_row32_col1\" class=\"data row32 col1\" >0.143</td>\n",
       "      <td id=\"T_b03b1_row32_col2\" class=\"data row32 col2\" >0.087</td>\n",
       "    </tr>\n",
       "  </tbody>\n",
       "</table>\n"
      ],
      "text/plain": [
       "<pandas.io.formats.style.Styler at 0x105fd9900>"
      ]
     },
     "execution_count": 12,
     "metadata": {},
     "output_type": "execute_result"
    }
   ],
   "source": [
    "arfs_selector.assoc_matrix_.loc[\n",
    "    :, [\"mean radius\", \"compactness error\", \"concave points error\"]\n",
    "].style.pipe(style_df)"
   ]
  },
  {
   "cell_type": "markdown",
   "id": "f7b5440f-64fb-4557-8ce1-6d74aa082ecf",
   "metadata": {},
   "source": [
    "We can see that `compactness error` and `concave points error` both should never  \n",
    "have been removed as neither meets the threshold."
   ]
  },
  {
   "cell_type": "code",
   "execution_count": 13,
   "id": "e3fcc468-d865-484f-ac1b-6af36041ec01",
   "metadata": {
    "execution": {
     "iopub.execute_input": "2024-02-10T04:59:57.784514Z",
     "iopub.status.busy": "2024-02-10T04:59:57.784342Z",
     "iopub.status.idle": "2024-02-10T04:59:57.811352Z",
     "shell.execute_reply": "2024-02-10T04:59:57.810976Z",
     "shell.execute_reply.started": "2024-02-10T04:59:57.784502Z"
    }
   },
   "outputs": [
    {
     "name": "stdout",
     "output_type": "stream",
     "text": [
      "mean concavity    0.921391\n",
      "dtype: float64\n",
      "mean concave points    0.910155\n",
      "dtype: float64\n",
      "mean compactness    0.865809\n",
      "dtype: float64\n",
      "worst concave points    0.855434\n",
      "dtype: float64\n",
      "worst perimeter    0.993708\n",
      "dtype: float64\n",
      "worst concavity    0.892261\n",
      "dtype: float64\n",
      "worst radius    0.984015\n",
      "dtype: float64\n",
      "perimeter error    0.972794\n",
      "dtype: float64\n",
      "mean perimeter    0.997855\n",
      "dtype: float64\n",
      "worst area    0.959213\n",
      "dtype: float64\n",
      "radius error    0.95183\n",
      "dtype: float64\n",
      "mean radius    0.987357\n",
      "dtype: float64\n",
      "worst texture    0.912045\n",
      "dtype: float64\n"
     ]
    }
   ],
   "source": [
    "most_col_features_new = _recursive_collinear_elimination(\n",
    "    arfs_selector.assoc_matrix_,\n",
    "    threshold=0.85,\n",
    "    verbose=True,\n",
    ")"
   ]
  },
  {
   "cell_type": "markdown",
   "id": "2bb06bff-e0f6-4440-8d7d-b0a8ff3ed9ba",
   "metadata": {},
   "source": [
    "## Illustrating the sorting problem\n",
    "\n",
    "The problem here is that by sorting a series and then adding another sorted series to it,  \n",
    "the order stays in the same order as the first series."
   ]
  },
  {
   "cell_type": "code",
   "execution_count": 14,
   "id": "3ce8359e-0894-4a83-9c77-8770d8f8d71b",
   "metadata": {
    "execution": {
     "iopub.execute_input": "2024-02-10T04:59:57.812503Z",
     "iopub.status.busy": "2024-02-10T04:59:57.812358Z",
     "iopub.status.idle": "2024-02-10T04:59:57.816058Z",
     "shell.execute_reply": "2024-02-10T04:59:57.815700Z",
     "shell.execute_reply.started": "2024-02-10T04:59:57.812490Z"
    }
   },
   "outputs": [],
   "source": [
    "series_1 = pd.Series([2, 1, 3], index=[\"A\", \"B\", \"C\"])\n",
    "series_2 = pd.Series([2.1, 3.3, 1.2], index=[\"A\", \"B\", \"C\"])"
   ]
  },
  {
   "cell_type": "code",
   "execution_count": 15,
   "id": "538f5c3b-6cb6-4048-9248-feb87d8490f6",
   "metadata": {
    "execution": {
     "iopub.execute_input": "2024-02-10T04:59:57.816806Z",
     "iopub.status.busy": "2024-02-10T04:59:57.816611Z",
     "iopub.status.idle": "2024-02-10T04:59:57.820404Z",
     "shell.execute_reply": "2024-02-10T04:59:57.819856Z",
     "shell.execute_reply.started": "2024-02-10T04:59:57.816793Z"
    }
   },
   "outputs": [
    {
     "name": "stdout",
     "output_type": "stream",
     "text": [
      "C    3\n",
      "A    2\n",
      "B    1\n",
      "dtype: int64\n",
      "B    3.3\n",
      "A    2.1\n",
      "C    1.2\n",
      "dtype: float64\n"
     ]
    }
   ],
   "source": [
    "print(series_1.sort_values(ascending=False))\n",
    "print(series_2.sort_values(ascending=False))"
   ]
  },
  {
   "cell_type": "code",
   "execution_count": 16,
   "id": "f670a0b0-16cb-4cde-b5de-39ea913bba1f",
   "metadata": {
    "execution": {
     "iopub.execute_input": "2024-02-10T04:59:57.821288Z",
     "iopub.status.busy": "2024-02-10T04:59:57.821142Z",
     "iopub.status.idle": "2024-02-10T04:59:57.827173Z",
     "shell.execute_reply": "2024-02-10T04:59:57.826081Z",
     "shell.execute_reply.started": "2024-02-10T04:59:57.821275Z"
    }
   },
   "outputs": [
    {
     "name": "stdout",
     "output_type": "stream",
     "text": [
      "C    4.2\n",
      "A    4.1\n",
      "B    4.3\n",
      "dtype: float64\n"
     ]
    }
   ],
   "source": [
    "presort_series = series_1.sort_values(ascending=False)\n",
    "presort_series += series_2.sort_values(ascending=False)\n",
    "print(presort_series)"
   ]
  },
  {
   "cell_type": "code",
   "execution_count": 17,
   "id": "ae177493-beca-4bf7-999c-07f1e8183c5b",
   "metadata": {
    "execution": {
     "iopub.execute_input": "2024-02-10T04:59:57.828129Z",
     "iopub.status.busy": "2024-02-10T04:59:57.828005Z",
     "iopub.status.idle": "2024-02-10T04:59:57.831300Z",
     "shell.execute_reply": "2024-02-10T04:59:57.830746Z",
     "shell.execute_reply.started": "2024-02-10T04:59:57.828117Z"
    }
   },
   "outputs": [
    {
     "name": "stdout",
     "output_type": "stream",
     "text": [
      "B    4.3\n",
      "C    4.2\n",
      "A    4.1\n",
      "dtype: float64\n"
     ]
    }
   ],
   "source": [
    "postsort_series = series_1\n",
    "postsort_series += series_2\n",
    "print(postsort_series.sort_values(ascending=False))"
   ]
  },
  {
   "cell_type": "markdown",
   "id": "70f30ca8-df17-4c3b-b6a6-c9bac3a2e86c",
   "metadata": {},
   "source": [
    "## Illustrating the selecting problem\n",
    "\n",
    "The problem here is `df[]` selects columns, but `df.sum(axis=1)` will give you rows,  \n",
    "then when you combine `most_collinear_series`, you have a mixture of row and columns labels.  \n",
    "Combined with the above sorting problem this meant that all features (or more specifically,   \n",
    "any feature in the df's index) were being used in the sort call and could be dropped if they  \n",
    "had the highest average collinearity to the features in `to_drop`."
   ]
  },
  {
   "cell_type": "code",
   "execution_count": 18,
   "id": "9cf82891-e00f-4c5f-b51d-70aced30eaab",
   "metadata": {
    "editable": true,
    "execution": {
     "iopub.execute_input": "2024-02-10T04:59:57.831924Z",
     "iopub.status.busy": "2024-02-10T04:59:57.831800Z",
     "iopub.status.idle": "2024-02-10T04:59:57.836693Z",
     "shell.execute_reply": "2024-02-10T04:59:57.836215Z",
     "shell.execute_reply.started": "2024-02-10T04:59:57.831911Z"
    },
    "slideshow": {
     "slide_type": ""
    },
    "tags": []
   },
   "outputs": [
    {
     "name": "stdout",
     "output_type": "stream",
     "text": [
      "     A    B\n",
      "1  1.0  1.0\n",
      "2  1.0  1.0\n",
      "A  1.0  1.0\n"
     ]
    }
   ],
   "source": [
    "df_1 = pd.DataFrame(data=np.ones((3, 2)), index=[\"1\", \"2\", \"A\"], columns=[\"A\", \"B\"])\n",
    "to_drop = [\"A\"]\n",
    "print(df_1)"
   ]
  },
  {
   "cell_type": "code",
   "execution_count": 19,
   "id": "5936cd8f-c09d-4de9-99f1-f4a3d9064afa",
   "metadata": {
    "execution": {
     "iopub.execute_input": "2024-02-10T04:59:57.837386Z",
     "iopub.status.busy": "2024-02-10T04:59:57.837239Z",
     "iopub.status.idle": "2024-02-10T04:59:57.843456Z",
     "shell.execute_reply": "2024-02-10T04:59:57.842892Z",
     "shell.execute_reply.started": "2024-02-10T04:59:57.837371Z"
    }
   },
   "outputs": [
    {
     "name": "stdout",
     "output_type": "stream",
     "text": [
      "1    1.0\n",
      "2    1.0\n",
      "A    1.0\n",
      "dtype: float64\n"
     ]
    }
   ],
   "source": [
    "print(df_1[to_drop].sum(axis=1))"
   ]
  },
  {
   "cell_type": "code",
   "execution_count": 20,
   "id": "ce1a47ad-2673-4199-a44d-431cf82699c3",
   "metadata": {
    "execution": {
     "iopub.execute_input": "2024-02-10T04:59:57.844324Z",
     "iopub.status.busy": "2024-02-10T04:59:57.844189Z",
     "iopub.status.idle": "2024-02-10T04:59:57.847586Z",
     "shell.execute_reply": "2024-02-10T04:59:57.847276Z",
     "shell.execute_reply.started": "2024-02-10T04:59:57.844311Z"
    }
   },
   "outputs": [
    {
     "name": "stdout",
     "output_type": "stream",
     "text": [
      "A    3.0\n",
      "dtype: float64\n"
     ]
    }
   ],
   "source": [
    "print(df_1[to_drop].sum(axis=0))"
   ]
  },
  {
   "cell_type": "code",
   "execution_count": 21,
   "id": "00a495b7-3b03-4145-8d31-b4e7181e130c",
   "metadata": {
    "execution": {
     "iopub.execute_input": "2024-02-10T04:59:57.848238Z",
     "iopub.status.busy": "2024-02-10T04:59:57.848139Z",
     "iopub.status.idle": "2024-02-10T04:59:57.853581Z",
     "shell.execute_reply": "2024-02-10T04:59:57.853228Z",
     "shell.execute_reply.started": "2024-02-10T04:59:57.848227Z"
    }
   },
   "outputs": [
    {
     "name": "stdout",
     "output_type": "stream",
     "text": [
      "1    NaN\n",
      "2    NaN\n",
      "A    4.0\n",
      "dtype: float64\n"
     ]
    }
   ],
   "source": [
    "combined_series = df_1[to_drop].sum(axis=1)\n",
    "combined_series += df_1[to_drop].sum(axis=0)\n",
    "print(combined_series)"
   ]
  }
 ],
 "metadata": {
  "kernelspec": {
   "display_name": "pycaret_3.10_2",
   "language": "python",
   "name": "pycaret_3.10_2"
  },
  "language_info": {
   "codemirror_mode": {
    "name": "ipython",
    "version": 3
   },
   "file_extension": ".py",
   "mimetype": "text/x-python",
   "name": "python",
   "nbconvert_exporter": "python",
   "pygments_lexer": "ipython3",
   "version": "3.10.13"
  }
 },
 "nbformat": 4,
 "nbformat_minor": 5
}
